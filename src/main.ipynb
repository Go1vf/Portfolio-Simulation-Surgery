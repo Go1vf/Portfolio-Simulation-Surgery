{
 "cells": [
  {
   "cell_type": "markdown",
   "source": [
    "# Portfolio Optimization"
   ],
   "metadata": {
    "collapsed": false
   },
   "id": "37beef9625796524"
  },
  {
   "cell_type": "code",
   "execution_count": 8,
   "id": "initial_id",
   "metadata": {
    "collapsed": true,
    "ExecuteTime": {
     "end_time": "2024-04-19T22:27:39.597339Z",
     "start_time": "2024-04-19T22:27:39.492604Z"
    }
   },
   "outputs": [],
   "source": [
    "import pandas as pd\n",
    "import numpy as np\n",
    "from scipy.optimize import minimize\n",
    "import yfinance as yf"
   ]
  },
  {
   "cell_type": "code",
   "outputs": [],
   "source": [
    "# Function to read data and calculate daily returns\n",
    "raw_data_path = '../data/raw/'\n",
    "processed_data_path = '../data/processed/'\n",
    "suffix = 'one_year_data.csv'\n",
    "stocks = ['AAPL', 'AMZN', 'EEM', 'GLD', 'JNJ', 'JPM', 'SPY', 'TSLA']\n",
    "file_paths = [f\"{raw_data_path}{stock}_{suffix}\" for stock in stocks]"
   ],
   "metadata": {
    "collapsed": false,
    "ExecuteTime": {
     "end_time": "2024-04-19T22:20:55.145227Z",
     "start_time": "2024-04-19T22:20:55.142339Z"
    }
   },
   "id": "1bfce25a31f54ee6",
   "execution_count": 5
  },
  {
   "cell_type": "code",
   "outputs": [
    {
     "name": "stdout",
     "output_type": "stream",
     "text": [
      "Current 3-month T-Bill rate: 5.2450%\n"
     ]
    }
   ],
   "source": [
    "def load_data(files):\n",
    "    data = {}\n",
    "    for file in files:\n",
    "        df = pd.read_csv(file, index_col='Date', parse_dates=True)\n",
    "        data[file.split('/')[-1].split('_')[0]] = df['Close']\n",
    "    data = pd.DataFrame(data)\n",
    "    data.to_csv(processed_data_path + 'one_year_price.csv')\n",
    "    return data\n",
    "\n",
    "def get_current_tbill_rate():\n",
    "    # Fetching the 3-month T-Bill yield\n",
    "    tbill = yf.Ticker(\"^IRX\")  # 13-week Treasury bill\n",
    "    hist = tbill.history(period=\"1d\")\n",
    "    current_yield = hist['Close'].iloc[-1]  # Get the last closing yield\n",
    "    return current_yield / 100  # Convert to a decimal format\n",
    "\n",
    "# Calculate portfolio performance metrics\n",
    "def portfolio_performance(weights, mean_returns, cov_matrix, risk_free_rate=0.01):\n",
    "    returns = np.sum(mean_returns * weights) * 252\n",
    "    std_dev = np.sqrt(np.dot(weights.T, np.dot(cov_matrix, weights))) * np.sqrt(252)\n",
    "    sharpe_ratio = (returns - risk_free_rate) / std_dev\n",
    "    return std_dev, returns, sharpe_ratio\n",
    "\n",
    "def check_sum(weights):\n",
    "    return np.sum(weights) - 1  # Weights must sum to 1\n",
    "\n",
    "constraints = ({'type': 'eq', 'fun': check_sum})\n",
    "\n",
    "def negative_sharpe_ratio(weights, mean_returns, cov_matrix, risk_free_rate):\n",
    "    return -portfolio_performance(weights, mean_returns, cov_matrix, risk_free_rate)[2]\n",
    "\n",
    "def maximize_sharpe_ratio(mean_returns, cov_matrix, risk_free_rate=0.01):\n",
    "    num_assets = len(mean_returns)\n",
    "    args = (mean_returns, cov_matrix, risk_free_rate)\n",
    "    bounds = tuple((-1, 1) for asset in range(num_assets))\n",
    "    initial_guess = num_assets * [1./num_assets,]\n",
    "    result = minimize(negative_sharpe_ratio, initial_guess, args=args, method='SLSQP', bounds=bounds, constraints=constraints)\n",
    "    return result\n",
    "\n",
    "risk_free_rate = get_current_tbill_rate()\n",
    "print(f\"Current 3-month T-Bill rate: {risk_free_rate:.4%}\")\n",
    "# Current 3-month T-Bill rate: 5.2450% (last run)"
   ],
   "metadata": {
    "collapsed": false,
    "ExecuteTime": {
     "end_time": "2024-04-19T22:33:50.546372Z",
     "start_time": "2024-04-19T22:33:50.415938Z"
    }
   },
   "id": "4efd6c810a4f86bf",
   "execution_count": 14
  },
  {
   "cell_type": "code",
   "outputs": [],
   "source": [
    "# There are 249 pieces of data from 2023-04-01 to 2024-04-01\n",
    "price_data = load_data(file_paths)\n",
    "returns = price_data.pct_change().dropna()\n",
    "mean_returns = returns.mean()\n",
    "cov_matrix = returns.cov()\n",
    "risk_free_rate = 0.05245"
   ],
   "metadata": {
    "collapsed": false,
    "ExecuteTime": {
     "end_time": "2024-04-19T22:32:41.805326Z",
     "start_time": "2024-04-19T22:32:41.758579Z"
    }
   },
   "id": "8f3ac8293b6ca861",
   "execution_count": 12
  },
  {
   "cell_type": "code",
   "outputs": [
    {
     "name": "stdout",
     "output_type": "stream",
     "text": [
      "Optimal portfolio list: ['AAPL', 'AMZN', 'EEM', 'GLD', 'JNJ', 'JPM', 'SPY', 'TSLA']\n",
      "Optimal portfolio weights: [-0.31147067  0.27887588 -0.80288713  0.40674235 -0.13353665  0.65459742\n",
      "  0.99902492 -0.09134612]\n",
      "Expected annual return: 0.7156253001996112\n",
      "Volatility: 0.16620457101306954\n",
      "Sharpe Ratio: 3.9901146960144165\n"
     ]
    }
   ],
   "source": [
    "optimal_portfolio = maximize_sharpe_ratio(mean_returns, cov_matrix, risk_free_rate)\n",
    "portfolio_volatility = None\n",
    "mu = None\n",
    "if optimal_portfolio.success:  # Check if the optimization was successful\n",
    "    print(\"Optimal portfolio list:\", stocks)\n",
    "    print(\"Optimal portfolio weights:\", optimal_portfolio.x)\n",
    "    vol, ret, sharpe = portfolio_performance(optimal_portfolio.x, mean_returns, cov_matrix, risk_free_rate)\n",
    "    portfolio_volatility = vol\n",
    "    mu = ret\n",
    "    print(\"Expected annual return:\", ret)\n",
    "    print(\"Volatility:\", vol)\n",
    "    print(\"Sharpe Ratio:\", sharpe)\n",
    "else:\n",
    "    print(\"Optimization did not converge:\", optimal_portfolio.message)"
   ],
   "metadata": {
    "collapsed": false,
    "ExecuteTime": {
     "end_time": "2024-04-19T22:49:40.308264Z",
     "start_time": "2024-04-19T22:49:40.283001Z"
    }
   },
   "id": "e9f7a750d540ba8d",
   "execution_count": 24
  },
  {
   "cell_type": "code",
   "outputs": [
    {
     "name": "stdout",
     "output_type": "stream",
     "text": [
      "Current Portfolio Value: 663.3186318547223\n",
      "Portfolio Volatility: 0.16620457101306954\n",
      "Expected annual return: 0.7156253001996112\n"
     ]
    }
   ],
   "source": [
    "weights = np.array([-0.31147067, 0.27887588, -0.80288713, 0.40674235, -0.13353665, 0.65459742, 0.99902492, -0.09134612])  # Our portfolio weights\n",
    "current_prices = price_data.iloc[-1, :]\n",
    "current_portfolio_value = np.dot(current_prices, weights)\n",
    "expected_annual_return = mu\n",
    "print(\"Current Portfolio Value:\", current_portfolio_value)\n",
    "print(\"Portfolio Volatility:\", portfolio_volatility)\n",
    "print(\"Expected annual return:\", expected_annual_return)\n"
   ],
   "metadata": {
    "collapsed": false,
    "ExecuteTime": {
     "end_time": "2024-04-19T22:49:42.950341Z",
     "start_time": "2024-04-19T22:49:42.946546Z"
    }
   },
   "id": "6bdbbfbdf8b3abee",
   "execution_count": 25
  },
  {
   "cell_type": "markdown",
   "source": [
    "# Simulation"
   ],
   "metadata": {
    "collapsed": false
   },
   "id": "44333fa28f8014e9"
  },
  {
   "cell_type": "markdown",
   "source": [
    "### GBM"
   ],
   "metadata": {
    "collapsed": false
   },
   "id": "86437ec18d3af549"
  },
  {
   "cell_type": "code",
   "outputs": [],
   "source": [],
   "metadata": {
    "collapsed": false
   },
   "id": "b87c5e0bdc91ee6d"
  },
  {
   "cell_type": "markdown",
   "source": [
    "### Merton"
   ],
   "metadata": {
    "collapsed": false
   },
   "id": "f856382606836d44"
  },
  {
   "cell_type": "code",
   "outputs": [],
   "source": [],
   "metadata": {
    "collapsed": false
   },
   "id": "925d670d9c26bc9b"
  },
  {
   "cell_type": "markdown",
   "source": [
    "### CEV"
   ],
   "metadata": {
    "collapsed": false
   },
   "id": "55589605b28043a9"
  },
  {
   "cell_type": "code",
   "outputs": [],
   "source": [],
   "metadata": {
    "collapsed": false
   },
   "id": "5c6e503eed086da2"
  },
  {
   "cell_type": "markdown",
   "source": [
    "### Heston"
   ],
   "metadata": {
    "collapsed": false
   },
   "id": "7e0c611d7a363c90"
  },
  {
   "cell_type": "code",
   "outputs": [],
   "source": [],
   "metadata": {
    "collapsed": false
   },
   "id": "42929f9060a3833e"
  }
 ],
 "metadata": {
  "kernelspec": {
   "display_name": "Python 3",
   "language": "python",
   "name": "python3"
  },
  "language_info": {
   "codemirror_mode": {
    "name": "ipython",
    "version": 2
   },
   "file_extension": ".py",
   "mimetype": "text/x-python",
   "name": "python",
   "nbconvert_exporter": "python",
   "pygments_lexer": "ipython2",
   "version": "2.7.6"
  }
 },
 "nbformat": 4,
 "nbformat_minor": 5
}
