{
 "cells": [
  {
   "cell_type": "markdown",
   "id": "37beef9625796524",
   "metadata": {
    "collapsed": false
   },
   "source": [
    "# Portfolio Optimization"
   ]
  },
  {
   "cell_type": "code",
   "execution_count": 1,
   "id": "initial_id",
   "metadata": {
    "ExecuteTime": {
     "end_time": "2024-04-19T22:27:39.597339Z",
     "start_time": "2024-04-19T22:27:39.492604Z"
    },
    "collapsed": true
   },
   "outputs": [],
   "source": [
    "import pandas as pd\n",
    "import numpy as np\n",
    "from scipy.optimize import minimize\n",
    "import matplotlib.pyplot as plt\n",
    "import yfinance as yf"
   ]
  },
  {
   "cell_type": "code",
   "execution_count": 2,
   "id": "1bfce25a31f54ee6",
   "metadata": {
    "ExecuteTime": {
     "end_time": "2024-04-19T22:20:55.145227Z",
     "start_time": "2024-04-19T22:20:55.142339Z"
    },
    "collapsed": false
   },
   "outputs": [],
   "source": [
    "# Function to read data and calculate daily returns\n",
    "raw_data_path = '../data/raw/'\n",
    "processed_data_path = '../data/processed/'\n",
    "suffix = 'one_year_data.csv'\n",
    "stocks = ['AAPL', 'AMZN', 'EEM', 'GLD', 'JNJ', 'JPM', 'SPY', 'TSLA']\n",
    "file_paths = [f\"{raw_data_path}{stock}_{suffix}\" for stock in stocks]"
   ]
  },
  {
   "cell_type": "code",
   "execution_count": 3,
   "id": "4efd6c810a4f86bf",
   "metadata": {
    "ExecuteTime": {
     "end_time": "2024-04-19T22:33:50.546372Z",
     "start_time": "2024-04-19T22:33:50.415938Z"
    },
    "collapsed": false
   },
   "outputs": [
    {
     "name": "stdout",
     "output_type": "stream",
     "text": [
      "Current 3-month T-Bill rate: 5.2450%\n"
     ]
    }
   ],
   "source": [
    "def load_data(files):\n",
    "    data = {}\n",
    "    for file in files:\n",
    "        df = pd.read_csv(file, index_col='Date', parse_dates=True)\n",
    "        data[file.split('/')[-1].split('_')[0]] = df['Close']\n",
    "    data = pd.DataFrame(data)\n",
    "    data.to_csv(processed_data_path + 'one_year_price.csv')\n",
    "    return data\n",
    "\n",
    "def get_current_tbill_rate():\n",
    "    # Fetching the 3-month T-Bill yield\n",
    "    tbill = yf.Ticker(\"^IRX\")  # 13-week Treasury bill\n",
    "    hist = tbill.history(period=\"1d\")\n",
    "    current_yield = hist['Close'].iloc[-1]  # Get the last closing yield\n",
    "    return current_yield / 100  # Convert to a decimal format\n",
    "\n",
    "# Calculate portfolio performance metrics\n",
    "def portfolio_performance(weights, mean_returns, cov_matrix, risk_free_rate=0.01):\n",
    "    returns = np.sum(mean_returns * weights) * 252\n",
    "    std_dev = np.sqrt(np.dot(weights.T, np.dot(cov_matrix, weights))) * np.sqrt(252)\n",
    "    sharpe_ratio = (returns - risk_free_rate) / std_dev\n",
    "    return std_dev, returns, sharpe_ratio\n",
    "\n",
    "def check_sum(weights):\n",
    "    return np.sum(weights) - 1  # Weights must sum to 1\n",
    "\n",
    "constraints = ({'type': 'eq', 'fun': check_sum})\n",
    "\n",
    "def negative_sharpe_ratio(weights, mean_returns, cov_matrix, risk_free_rate):\n",
    "    return -portfolio_performance(weights, mean_returns, cov_matrix, risk_free_rate)[2]\n",
    "\n",
    "def maximize_sharpe_ratio(mean_returns, cov_matrix, risk_free_rate=0.01):\n",
    "    num_assets = len(mean_returns)\n",
    "    args = (mean_returns, cov_matrix, risk_free_rate)\n",
    "    bounds = tuple((-1, 1) for asset in range(num_assets))\n",
    "    initial_guess = num_assets * [1./num_assets,]\n",
    "    result = minimize(negative_sharpe_ratio, initial_guess, args=args, method='SLSQP', bounds=bounds, constraints=constraints)\n",
    "    return result\n",
    "\n",
    "risk_free_rate = get_current_tbill_rate()\n",
    "print(f\"Current 3-month T-Bill rate: {risk_free_rate:.4%}\")\n",
    "# Current 3-month T-Bill rate: 5.2450% (last run)"
   ]
  },
  {
   "cell_type": "code",
   "execution_count": 4,
   "id": "8f3ac8293b6ca861",
   "metadata": {
    "ExecuteTime": {
     "end_time": "2024-04-19T22:32:41.805326Z",
     "start_time": "2024-04-19T22:32:41.758579Z"
    },
    "collapsed": false
   },
   "outputs": [],
   "source": [
    "# There are 249 pieces of data from 2023-04-01 to 2024-04-01\n",
    "price_data = load_data(file_paths)\n",
    "returns = price_data.pct_change().dropna()\n",
    "mean_returns = returns.mean()\n",
    "cov_matrix = returns.cov()\n",
    "risk_free_rate = 0.05245"
   ]
  },
  {
   "cell_type": "code",
   "execution_count": 5,
   "id": "e9f7a750d540ba8d",
   "metadata": {
    "ExecuteTime": {
     "end_time": "2024-04-19T22:49:40.308264Z",
     "start_time": "2024-04-19T22:49:40.283001Z"
    },
    "collapsed": false
   },
   "outputs": [
    {
     "name": "stdout",
     "output_type": "stream",
     "text": [
      "Optimal portfolio list: ['AAPL', 'AMZN', 'EEM', 'GLD', 'JNJ', 'JPM', 'SPY', 'TSLA']\n",
      "Optimal portfolio weights: [-0.31147069  0.2788759  -0.80288723  0.40674247 -0.13353672  0.65459744\n",
      "  0.99902494 -0.0913461 ]\n",
      "Expected annual return: 0.7156253280661997\n",
      "Volatility: 0.16620457800294755\n",
      "Sharpe Ratio: 3.990114688985514\n"
     ]
    }
   ],
   "source": [
    "optimal_portfolio = maximize_sharpe_ratio(mean_returns, cov_matrix, risk_free_rate)\n",
    "portfolio_volatility = None\n",
    "mu = None\n",
    "if optimal_portfolio.success:  # Check if the optimization was successful\n",
    "    print(\"Optimal portfolio list:\", stocks)\n",
    "    print(\"Optimal portfolio weights:\", optimal_portfolio.x)\n",
    "    vol, ret, sharpe = portfolio_performance(optimal_portfolio.x, mean_returns, cov_matrix, risk_free_rate)\n",
    "    portfolio_volatility = vol\n",
    "    mu = ret\n",
    "    print(\"Expected annual return:\", ret)\n",
    "    print(\"Volatility:\", vol)\n",
    "    print(\"Sharpe Ratio:\", sharpe)\n",
    "else:\n",
    "    print(\"Optimization did not converge:\", optimal_portfolio.message)"
   ]
  },
  {
   "cell_type": "code",
   "execution_count": 6,
   "id": "6bdbbfbdf8b3abee",
   "metadata": {
    "ExecuteTime": {
     "end_time": "2024-04-19T22:49:42.950341Z",
     "start_time": "2024-04-19T22:49:42.946546Z"
    },
    "collapsed": false
   },
   "outputs": [
    {
     "name": "stdout",
     "output_type": "stream",
     "text": [
      "Current Portfolio Value: 663.3186318547223\n",
      "Portfolio Volatility: 0.16620457800294755\n",
      "Expected annual return: 0.7156253280661997\n"
     ]
    }
   ],
   "source": [
    "weights = np.array([-0.31147067, 0.27887588, -0.80288713, 0.40674235, -0.13353665, 0.65459742, 0.99902492, -0.09134612])  # Our portfolio weights\n",
    "current_prices = price_data.iloc[-1, :]\n",
    "current_portfolio_value = np.dot(current_prices, weights)\n",
    "expected_annual_return = mu\n",
    "print(\"Current Portfolio Value:\", current_portfolio_value)\n",
    "print(\"Portfolio Volatility:\", portfolio_volatility)\n",
    "print(\"Expected annual return:\", expected_annual_return)\n"
   ]
  },
  {
   "cell_type": "markdown",
   "id": "d5811665",
   "metadata": {},
   "source": [
    "## Efficient Frontier Visualization"
   ]
  },
  {
   "cell_type": "code",
   "execution_count": 7,
   "id": "3218f792",
   "metadata": {},
   "outputs": [],
   "source": [
    "## Efficient Frontier Visualization\n",
    "ef_port = pd.DataFrame(mean_returns)\n",
    "ef_port = pd.merge(ef_port, pd.DataFrame(returns.std()), on = ef_port.index)\n",
    "ef_port.columns = ['permno', 'ret', 'std']\n",
    "ef_port['ret'] = ef_port['ret'] * 252\n",
    "ef_port['std'] = ef_port['std'] * np.sqrt(252)\n",
    "ef_port = pd.concat([ef_port, pd.DataFrame({'permno':['PORT'], 'ret': [ret], 'std': [vol]})])"
   ]
  },
  {
   "cell_type": "code",
   "execution_count": 8,
   "id": "95eab31c",
   "metadata": {},
   "outputs": [],
   "source": [
    "def plot_efficient_frontier(mean_returns, cov_matrix, risk_free_rate, num_portfolios=1001, ef_port=None):\n",
    "    num_assets = len(mean_returns)\n",
    "    results = np.zeros((3, num_portfolios))\n",
    "    weights_record = []\n",
    "\n",
    "    \n",
    "    target_returns = np.linspace(0, 1, num_portfolios)\n",
    "    for i, target_return in enumerate(target_returns):\n",
    "        constraints = ({\n",
    "            'type': 'eq', \n",
    "            'fun': lambda x: portfolio_performance(x, mean_returns, cov_matrix, risk_free_rate)[1] - target_return\n",
    "        }, {\n",
    "            'type': 'eq', \n",
    "            'fun': lambda x: np.sum(x) - 1\n",
    "        })\n",
    "        bounds = tuple((-1, 1) for asset in range(num_assets))\n",
    "        result = minimize(\n",
    "            lambda x: portfolio_performance(x, mean_returns, cov_matrix, risk_free_rate)[0], \n",
    "            num_assets * [1. / num_assets,],\n",
    "            method='SLSQP', \n",
    "            bounds=bounds, \n",
    "            constraints=constraints\n",
    "        )\n",
    "        if result.success:\n",
    "            std_dev, returns, sharpe_ratio = portfolio_performance(result.x, mean_returns, cov_matrix, risk_free_rate)\n",
    "            results[0, i] = std_dev\n",
    "            results[1, i] = returns\n",
    "            results[2, i] = sharpe_ratio\n",
    "            weights_record.append(result.x)\n",
    "\n",
    "    plt.figure(figsize=(10, 6))\n",
    "    plt.scatter(results[0], results[1], c=results[2], cmap='viridis', marker='o')\n",
    "    plt.title('Efficient Frontier with Specific Stocks')\n",
    "    plt.xlabel('Portfolio Risk')\n",
    "    plt.ylabel('Portfolio Return')\n",
    "    plt.colorbar(label='Sharpe Ratio')\n",
    "    \n",
    "    if ef_port is not None:\n",
    "        plt.scatter(ef_port['std'], ef_port['ret'], c='red', marker='D', s=50, label='Stocks')\n",
    "        for i, txt in enumerate(ef_port['permno']):\n",
    "            plt.annotate(txt, (ef_port['std'].iloc[i], ef_port['ret'].iloc[i]))\n",
    "\n",
    "    plt.legend()\n",
    "    plt.show()"
   ]
  },
  {
   "cell_type": "code",
   "execution_count": 9,
   "id": "83c59182",
   "metadata": {},
   "outputs": [
    {
     "data": {
      "image/png": "[encoded data removed]",
      "text/plain": [
       "<Figure size 1000x600 with 2 Axes>"
      ]
     },
     "metadata": {},
     "output_type": "display_data"
    }
   ],
   "source": [
    "plot_efficient_frontier(mean_returns, cov_matrix, risk_free_rate, num_portfolios= 1000, ef_port=  ef_port)"
   ]
  },
  {
   "cell_type": "markdown",
   "id": "44333fa28f8014e9",
   "metadata": {
    "collapsed": false
   },
   "source": [
    "# Simulation"
   ]
  },
  {
   "cell_type": "markdown",
   "id": "86437ec18d3af549",
   "metadata": {
    "collapsed": false
   },
   "source": [
    "### GBM"
   ]
  },
  {
   "cell_type": "code",
   "execution_count": null,
   "id": "b87c5e0bdc91ee6d",
   "metadata": {
    "collapsed": false
   },
   "outputs": [],
   "source": []
  },
  {
   "cell_type": "markdown",
   "id": "f856382606836d44",
   "metadata": {
    "collapsed": false
   },
   "source": [
    "### Merton"
   ]
  },
  {
   "cell_type": "code",
   "execution_count": null,
   "id": "925d670d9c26bc9b",
   "metadata": {
    "collapsed": false
   },
   "outputs": [],
   "source": []
  },
  {
   "cell_type": "markdown",
   "id": "55589605b28043a9",
   "metadata": {
    "collapsed": false
   },
   "source": [
    "### CEV"
   ]
  },
  {
   "cell_type": "code",
   "execution_count": null,
   "id": "5c6e503eed086da2",
   "metadata": {
    "collapsed": false
   },
   "outputs": [],
   "source": []
  },
  {
   "cell_type": "markdown",
   "id": "7e0c611d7a363c90",
   "metadata": {
    "collapsed": false
   },
   "source": [
    "### Heston"
   ]
  },
  {
   "cell_type": "code",
   "execution_count": null,
   "id": "42929f9060a3833e",
   "metadata": {
    "collapsed": false
   },
   "outputs": [],
   "source": []
  }
 ],
 "metadata": {
  "kernelspec": {
   "display_name": "Python 3",
   "language": "python",
   "name": "python3"
  },
  "language_info": {
   "codemirror_mode": {
    "name": "ipython",
    "version": 3
   },
   "file_extension": ".py",
   "mimetype": "text/x-python",
   "name": "python",
   "nbconvert_exporter": "python",
   "pygments_lexer": "ipython3",
   "version": "3.11.4"
  }
 },
 "nbformat": 4,
 "nbformat_minor": 5
}
